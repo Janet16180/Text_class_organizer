{
 "cells": [
  {
   "cell_type": "code",
   "execution_count": 1,
   "metadata": {},
   "outputs": [
    {
     "name": "stderr",
     "output_type": "stream",
     "text": [
      "/home/janet/Documents/github_repos/Text_class_organizer/.venv/lib/python3.12/site-packages/tqdm/auto.py:21: TqdmWarning: IProgress not found. Please update jupyter and ipywidgets. See https://ipywidgets.readthedocs.io/en/stable/user_install.html\n",
      "  from .autonotebook import tqdm as notebook_tqdm\n",
      "2024-10-30 17:49:15.250588: I tensorflow/core/util/port.cc:153] oneDNN custom operations are on. You may see slightly different numerical results due to floating-point round-off errors from different computation orders. To turn them off, set the environment variable `TF_ENABLE_ONEDNN_OPTS=0`.\n",
      "2024-10-30 17:49:15.257990: E external/local_xla/xla/stream_executor/cuda/cuda_fft.cc:477] Unable to register cuFFT factory: Attempting to register factory for plugin cuFFT when one has already been registered\n",
      "WARNING: All log messages before absl::InitializeLog() is called are written to STDERR\n",
      "E0000 00:00:1730332155.266834  122809 cuda_dnn.cc:8310] Unable to register cuDNN factory: Attempting to register factory for plugin cuDNN when one has already been registered\n",
      "E0000 00:00:1730332155.269372  122809 cuda_blas.cc:1418] Unable to register cuBLAS factory: Attempting to register factory for plugin cuBLAS when one has already been registered\n",
      "2024-10-30 17:49:15.278965: I tensorflow/core/platform/cpu_feature_guard.cc:210] This TensorFlow binary is optimized to use available CPU instructions in performance-critical operations.\n",
      "To enable the following instructions: AVX2 AVX_VNNI FMA, in other operations, rebuild TensorFlow with the appropriate compiler flags.\n"
     ]
    }
   ],
   "source": [
    "from text_class_organizer import *\n",
    "import random\n",
    "from sklearn.model_selection import train_test_split\n",
    "import pandas as pd\n",
    "from sklearn.metrics import accuracy_score, confusion_matrix, classification_report"
   ]
  },
  {
   "cell_type": "code",
   "execution_count": 2,
   "metadata": {},
   "outputs": [],
   "source": [
    "dataset_path = \"./datasets/different_error_syntax.csv\"\n",
    "dataset_path = \"./datasets/semantic_errors.csv\"\n",
    "df = pd.read_csv(dataset_path)\n",
    "\n",
    "y = df['Type']\n",
    "X = df['Error']\n",
    "\n"
   ]
  },
  {
   "cell_type": "code",
   "execution_count": 3,
   "metadata": {},
   "outputs": [],
   "source": [
    "# Split the data into training and testing sets\n",
    "X_train, X_test, y_train, y_test = train_test_split(X, y, test_size=0.2, random_state=42)"
   ]
  },
  {
   "cell_type": "code",
   "execution_count": 4,
   "metadata": {},
   "outputs": [
    {
     "name": "stdout",
     "output_type": "stream",
     "text": [
      "0.8571428571428571\n",
      "[[10  0  0  0  1]\n",
      " [ 0  9  0  0  0]\n",
      " [ 4  0  6  0  0]\n",
      " [ 1  0  0  5  0]\n",
      " [ 0  0  0  0  6]]\n",
      "                       precision    recall  f1-score   support\n",
      "\n",
      "authentication_failed       0.67      0.91      0.77        11\n",
      "     connection_error       1.00      1.00      1.00         9\n",
      "       database_error       1.00      0.60      0.75        10\n",
      "       file_not_found       1.00      0.83      0.91         6\n",
      "        invalid_input       0.86      1.00      0.92         6\n",
      "\n",
      "             accuracy                           0.86        42\n",
      "            macro avg       0.90      0.87      0.87        42\n",
      "         weighted avg       0.89      0.86      0.86        42\n",
      "\n"
     ]
    }
   ],
   "source": [
    "error_clusterer = Error_clusterer_centroid()\n",
    "error_clusterer.fit(X_train, y_train)\n",
    "\n",
    "y_pred = error_clusterer.predict(X_test.to_list())\n",
    "\n",
    "print(accuracy_score(y_test, y_pred))\n",
    "print(confusion_matrix(y_test, y_pred))\n",
    "print(classification_report(y_test, y_pred))"
   ]
  },
  {
   "cell_type": "code",
   "execution_count": 5,
   "metadata": {},
   "outputs": [
    {
     "name": "stdout",
     "output_type": "stream",
     "text": [
      "0.9285714285714286\n",
      "[[10  0  0  0  1]\n",
      " [ 0  9  0  0  0]\n",
      " [ 2  0  8  0  0]\n",
      " [ 0  0  0  6  0]\n",
      " [ 0  0  0  0  6]]\n",
      "                       precision    recall  f1-score   support\n",
      "\n",
      "authentication_failed       0.83      0.91      0.87        11\n",
      "     connection_error       1.00      1.00      1.00         9\n",
      "       database_error       1.00      0.80      0.89        10\n",
      "       file_not_found       1.00      1.00      1.00         6\n",
      "        invalid_input       0.86      1.00      0.92         6\n",
      "\n",
      "             accuracy                           0.93        42\n",
      "            macro avg       0.94      0.94      0.94        42\n",
      "         weighted avg       0.94      0.93      0.93        42\n",
      "\n"
     ]
    }
   ],
   "source": [
    "error_clusterer = Error_clusterer_naive_bayes()\n",
    "error_clusterer.fit(X_train, y_train)\n",
    "\n",
    "y_pred = error_clusterer.predict(X_test)\n",
    "\n",
    "print(accuracy_score(y_test, y_pred))\n",
    "print(confusion_matrix(y_test, y_pred))\n",
    "print(classification_report(y_test, y_pred))"
   ]
  },
  {
   "cell_type": "code",
   "execution_count": 6,
   "metadata": {},
   "outputs": [
    {
     "name": "stdout",
     "output_type": "stream",
     "text": [
      "0.8333333333333334\n",
      "[[9 2 0 0 0]\n",
      " [0 7 1 0 1]\n",
      " [2 1 7 0 0]\n",
      " [0 0 0 6 0]\n",
      " [0 0 0 0 6]]\n",
      "                       precision    recall  f1-score   support\n",
      "\n",
      "authentication_failed       0.82      0.82      0.82        11\n",
      "     connection_error       0.70      0.78      0.74         9\n",
      "       database_error       0.88      0.70      0.78        10\n",
      "       file_not_found       1.00      1.00      1.00         6\n",
      "        invalid_input       0.86      1.00      0.92         6\n",
      "\n",
      "             accuracy                           0.83        42\n",
      "            macro avg       0.85      0.86      0.85        42\n",
      "         weighted avg       0.84      0.83      0.83        42\n",
      "\n"
     ]
    }
   ],
   "source": [
    "error_clusterer = Error_clusterer_xgboost()\n",
    "error_clusterer.fit(X_train, y_train)\n",
    "y_pred = error_clusterer.predict(X_test)\n",
    "\n",
    "print(accuracy_score(y_test, y_pred))\n",
    "print(confusion_matrix(y_test, y_pred))\n",
    "print(classification_report(y_test, y_pred))"
   ]
  },
  {
   "cell_type": "code",
   "execution_count": 7,
   "metadata": {},
   "outputs": [
    {
     "name": "stdout",
     "output_type": "stream",
     "text": [
      "0.8571428571428571\n",
      "[[10  0  0  0  1]\n",
      " [ 0  8  1  0  0]\n",
      " [ 3  1  6  0  0]\n",
      " [ 0  0  0  6  0]\n",
      " [ 0  0  0  0  6]]\n",
      "                       precision    recall  f1-score   support\n",
      "\n",
      "authentication_failed       0.77      0.91      0.83        11\n",
      "     connection_error       0.89      0.89      0.89         9\n",
      "       database_error       0.86      0.60      0.71        10\n",
      "       file_not_found       1.00      1.00      1.00         6\n",
      "        invalid_input       0.86      1.00      0.92         6\n",
      "\n",
      "             accuracy                           0.86        42\n",
      "            macro avg       0.87      0.88      0.87        42\n",
      "         weighted avg       0.86      0.86      0.85        42\n",
      "\n"
     ]
    }
   ],
   "source": [
    "error_clusterer = Error_clusterer_random_forest()\n",
    "error_clusterer.fit(X_train, y_train)\n",
    "y_pred = error_clusterer.predict(X_test)\n",
    "\n",
    "print(accuracy_score(y_test, y_pred))\n",
    "print(confusion_matrix(y_test, y_pred))\n",
    "print(classification_report(y_test, y_pred))"
   ]
  },
  {
   "cell_type": "code",
   "execution_count": 8,
   "metadata": {},
   "outputs": [
    {
     "name": "stdout",
     "output_type": "stream",
     "text": [
      "0.8809523809523809\n",
      "[[10  0  0  0  1]\n",
      " [ 0  8  1  0  0]\n",
      " [ 3  0  7  0  0]\n",
      " [ 0  0  0  6  0]\n",
      " [ 0  0  0  0  6]]\n",
      "                       precision    recall  f1-score   support\n",
      "\n",
      "authentication_failed       0.77      0.91      0.83        11\n",
      "     connection_error       1.00      0.89      0.94         9\n",
      "       database_error       0.88      0.70      0.78        10\n",
      "       file_not_found       1.00      1.00      1.00         6\n",
      "        invalid_input       0.86      1.00      0.92         6\n",
      "\n",
      "             accuracy                           0.88        42\n",
      "            macro avg       0.90      0.90      0.90        42\n",
      "         weighted avg       0.89      0.88      0.88        42\n",
      "\n"
     ]
    }
   ],
   "source": [
    "error_clusterer = Error_clusterer_svm()\n",
    "error_clusterer.fit(X_train, y_train)\n",
    "\n",
    "y_pred = error_clusterer.predict(X_test)\n",
    "\n",
    "print(accuracy_score(y_test, y_pred))\n",
    "print(confusion_matrix(y_test, y_pred))\n",
    "print(classification_report(y_test, y_pred))"
   ]
  },
  {
   "cell_type": "code",
   "execution_count": 9,
   "metadata": {},
   "outputs": [
    {
     "name": "stdout",
     "output_type": "stream",
     "text": [
      "0.8809523809523809\n",
      "[[10  0  0  0  1]\n",
      " [ 0  8  1  0  0]\n",
      " [ 3  0  7  0  0]\n",
      " [ 0  0  0  6  0]\n",
      " [ 0  0  0  0  6]]\n",
      "                       precision    recall  f1-score   support\n",
      "\n",
      "authentication_failed       0.77      0.91      0.83        11\n",
      "     connection_error       1.00      0.89      0.94         9\n",
      "       database_error       0.88      0.70      0.78        10\n",
      "       file_not_found       1.00      1.00      1.00         6\n",
      "        invalid_input       0.86      1.00      0.92         6\n",
      "\n",
      "             accuracy                           0.88        42\n",
      "            macro avg       0.90      0.90      0.90        42\n",
      "         weighted avg       0.89      0.88      0.88        42\n",
      "\n"
     ]
    }
   ],
   "source": [
    "error_clusterer = Error_clusterer_nn()\n",
    "error_clusterer.fit(X_train, y_train)\n",
    "\n",
    "y_pred = error_clusterer.predict(X_test)\n",
    "\n",
    "print(accuracy_score(y_test, y_pred))\n",
    "print(confusion_matrix(y_test, y_pred))\n",
    "print(classification_report(y_test, y_pred))"
   ]
  }
 ],
 "metadata": {
  "kernelspec": {
   "display_name": ".venv",
   "language": "python",
   "name": "python3"
  },
  "language_info": {
   "codemirror_mode": {
    "name": "ipython",
    "version": 3
   },
   "file_extension": ".py",
   "mimetype": "text/x-python",
   "name": "python",
   "nbconvert_exporter": "python",
   "pygments_lexer": "ipython3",
   "version": "3.12.3"
  }
 },
 "nbformat": 4,
 "nbformat_minor": 2
}
